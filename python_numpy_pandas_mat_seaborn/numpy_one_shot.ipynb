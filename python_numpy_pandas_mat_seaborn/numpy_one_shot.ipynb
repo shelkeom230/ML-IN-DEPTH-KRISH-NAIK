{
 "cells": [
  {
   "cell_type": "code",
   "execution_count": 1,
   "id": "fb87e8f2-8d81-43c5-9dcd-ac4890cb887f",
   "metadata": {},
   "outputs": [],
   "source": [
    "import numpy as np"
   ]
  },
  {
   "cell_type": "code",
   "execution_count": 2,
   "id": "b9ca6469-dc29-43ec-88bd-eb0945a06d7d",
   "metadata": {},
   "outputs": [],
   "source": [
    "arr=np.array([1,2,3,4,5])"
   ]
  },
  {
   "cell_type": "code",
   "execution_count": 4,
   "id": "ee2729e1-170e-48cc-8af7-f62d04a58f59",
   "metadata": {},
   "outputs": [
    {
     "data": {
      "text/plain": [
       "numpy.ndarray"
      ]
     },
     "execution_count": 4,
     "metadata": {},
     "output_type": "execute_result"
    }
   ],
   "source": [
    "type(arr)"
   ]
  },
  {
   "cell_type": "code",
   "execution_count": 5,
   "id": "6751b42c-e6fa-490c-8fc7-76fc641ef0ad",
   "metadata": {},
   "outputs": [
    {
     "data": {
      "text/plain": [
       "(5,)"
      ]
     },
     "execution_count": 5,
     "metadata": {},
     "output_type": "execute_result"
    }
   ],
   "source": [
    "arr.shape"
   ]
  },
  {
   "cell_type": "code",
   "execution_count": 8,
   "id": "4764aee5-475d-4f7e-baa0-ba009d173a7f",
   "metadata": {},
   "outputs": [
    {
     "data": {
      "text/plain": [
       "array([1, 2, 3, 4, 5])"
      ]
     },
     "execution_count": 8,
     "metadata": {},
     "output_type": "execute_result"
    }
   ],
   "source": [
    "arr"
   ]
  },
  {
   "cell_type": "markdown",
   "id": "2d087dc2-d16c-4a71-a1b1-faf533620d91",
   "metadata": {},
   "source": [
    "# 2D array"
   ]
  },
  {
   "cell_type": "code",
   "execution_count": 18,
   "id": "fc78d7bb-6e4a-4c92-9981-7c43eb616a9a",
   "metadata": {},
   "outputs": [
    {
     "data": {
      "text/plain": [
       "array([[ 1,  2,  3,  4,  5],\n",
       "       [ 6,  7,  8,  9, 10],\n",
       "       [10, 11, 12, 13, 14]])"
      ]
     },
     "execution_count": 18,
     "metadata": {},
     "output_type": "execute_result"
    }
   ],
   "source": [
    "# 2D array \n",
    "lst1=[1,2,3,4,5]\n",
    "lst2=[6,7,8,9,10]\n",
    "lst3=[10,11,12,13,14]\n",
    "\n",
    "two_darr=np.array([lst1,lst2,lst3])\n",
    "two_darr"
   ]
  },
  {
   "cell_type": "code",
   "execution_count": 19,
   "id": "9015ecf0-ac36-446a-9c2a-5fe48b1f356d",
   "metadata": {},
   "outputs": [
    {
     "data": {
      "text/plain": [
       "array([[ 10, 120,  30,  40,  50],\n",
       "       [ 60,  70,  80,  90, 100],\n",
       "       [110, 120, 130, 140, 150]])"
      ]
     },
     "execution_count": 19,
     "metadata": {},
     "output_type": "execute_result"
    }
   ],
   "source": [
    "dim1=[10,120,30,40,50]\n",
    "dim2=[60,70,80,90,100]\n",
    "dim3=[110,120,130,140,150]\n",
    "twodim=np.array([dim1,dim2,dim3])\n",
    "twodim"
   ]
  },
  {
   "cell_type": "code",
   "execution_count": 20,
   "id": "59b3fb0e-7019-4369-bb2a-1850b90617a2",
   "metadata": {},
   "outputs": [
    {
     "data": {
      "text/plain": [
       "(3, 5)"
      ]
     },
     "execution_count": 20,
     "metadata": {},
     "output_type": "execute_result"
    }
   ],
   "source": [
    "twodim.shape"
   ]
  },
  {
   "cell_type": "code",
   "execution_count": 21,
   "id": "7f8dfb66-fbdb-4683-8062-7851e519283c",
   "metadata": {},
   "outputs": [
    {
     "data": {
      "text/plain": [
       "array([[ 10, 120,  30],\n",
       "       [ 40,  50,  60],\n",
       "       [ 70,  80,  90],\n",
       "       [100, 110, 120],\n",
       "       [130, 140, 150]])"
      ]
     },
     "execution_count": 21,
     "metadata": {},
     "output_type": "execute_result"
    }
   ],
   "source": [
    "twodim.reshape(5,3)"
   ]
  },
  {
   "cell_type": "code",
   "execution_count": 22,
   "id": "4ce09956-7d00-42fc-874f-0f776fd3c14c",
   "metadata": {},
   "outputs": [
    {
     "data": {
      "text/plain": [
       "(3, 5)"
      ]
     },
     "execution_count": 22,
     "metadata": {},
     "output_type": "execute_result"
    }
   ],
   "source": [
    "two_darr.shape"
   ]
  },
  {
   "cell_type": "code",
   "execution_count": 23,
   "id": "75c4330e-688a-44d0-a71f-147bb21e27ae",
   "metadata": {},
   "outputs": [
    {
     "data": {
      "text/plain": [
       "array([[ 1,  2,  3],\n",
       "       [ 4,  5,  6],\n",
       "       [ 7,  8,  9],\n",
       "       [10, 10, 11],\n",
       "       [12, 13, 14]])"
      ]
     },
     "execution_count": 23,
     "metadata": {},
     "output_type": "execute_result"
    }
   ],
   "source": [
    "two_darr.reshape(5,3) #reshapes the array into given rows and cols format , rows*col=total elements"
   ]
  },
  {
   "cell_type": "code",
   "execution_count": 24,
   "id": "406583b1-2c12-4968-8580-edadb61a259d",
   "metadata": {},
   "outputs": [
    {
     "data": {
      "text/plain": [
       "array([[ 1,  2,  3,  4,  5,  6,  7,  8,  9, 10, 10, 11, 12, 13, 14]])"
      ]
     },
     "execution_count": 24,
     "metadata": {},
     "output_type": "execute_result"
    }
   ],
   "source": [
    "two_darr.reshape(1,15)"
   ]
  },
  {
   "cell_type": "code",
   "execution_count": 25,
   "id": "3f8cf0b2-884e-4c92-8d88-81e6810fc733",
   "metadata": {},
   "outputs": [
    {
     "data": {
      "text/plain": [
       "array([[ 1],\n",
       "       [ 2],\n",
       "       [ 3],\n",
       "       [ 4],\n",
       "       [ 5],\n",
       "       [ 6],\n",
       "       [ 7],\n",
       "       [ 8],\n",
       "       [ 9],\n",
       "       [10],\n",
       "       [10],\n",
       "       [11],\n",
       "       [12],\n",
       "       [13],\n",
       "       [14]])"
      ]
     },
     "execution_count": 25,
     "metadata": {},
     "output_type": "execute_result"
    }
   ],
   "source": [
    "two_darr.reshape(15,1)"
   ]
  },
  {
   "cell_type": "code",
   "execution_count": 26,
   "id": "d01ecf2f-4171-426d-ba8c-7818ae475ef1",
   "metadata": {},
   "outputs": [
    {
     "data": {
      "text/plain": [
       "(3, 5)"
      ]
     },
     "execution_count": 26,
     "metadata": {},
     "output_type": "execute_result"
    }
   ],
   "source": [
    "two_darr.shape"
   ]
  },
  {
   "cell_type": "code",
   "execution_count": 27,
   "id": "0fc33fb6-caa0-4f01-a46b-763b0b851688",
   "metadata": {},
   "outputs": [
    {
     "data": {
      "text/plain": [
       "dtype('int32')"
      ]
     },
     "execution_count": 27,
     "metadata": {},
     "output_type": "execute_result"
    }
   ],
   "source": [
    "two_darr.dtype"
   ]
  },
  {
   "cell_type": "markdown",
   "id": "bffad55f-f8aa-4a83-81c3-2d9212a8222e",
   "metadata": {},
   "source": [
    "# Indexing"
   ]
  },
  {
   "cell_type": "markdown",
   "id": "bc218db9-d16e-4338-961c-a8fc0312a26d",
   "metadata": {},
   "source": [
    "## accessing the array element "
   ]
  },
  {
   "cell_type": "code",
   "execution_count": 36,
   "id": "214f41e3-cc87-43d3-8d79-128edd854a42",
   "metadata": {},
   "outputs": [],
   "source": [
    "arr=np.array([1,2,3,4,5,6,7,8,9,10])"
   ]
  },
  {
   "cell_type": "code",
   "execution_count": 37,
   "id": "1d24cc08-6d54-42dd-8d48-e523044a0b2b",
   "metadata": {},
   "outputs": [
    {
     "data": {
      "text/plain": [
       "4"
      ]
     },
     "execution_count": 37,
     "metadata": {},
     "output_type": "execute_result"
    }
   ],
   "source": [
    "arr[3]"
   ]
  },
  {
   "cell_type": "code",
   "execution_count": 38,
   "id": "5da43673-ffd0-4b78-ad96-bb090bc5dd51",
   "metadata": {},
   "outputs": [
    {
     "data": {
      "text/plain": [
       "array([[ 1,  2,  3,  4,  5],\n",
       "       [ 6,  7,  8,  9, 10],\n",
       "       [10, 11, 12, 13, 14]])"
      ]
     },
     "execution_count": 38,
     "metadata": {},
     "output_type": "execute_result"
    }
   ],
   "source": [
    "two_darr"
   ]
  },
  {
   "cell_type": "code",
   "execution_count": 39,
   "id": "009ce97c-7b8c-42a4-a932-e7f99ad0d1d2",
   "metadata": {},
   "outputs": [
    {
     "data": {
      "text/plain": [
       "array([[ 1,  2,  3,  4,  5],\n",
       "       [ 6,  7,  8,  9, 10],\n",
       "       [10, 11, 12, 13, 14]])"
      ]
     },
     "execution_count": 39,
     "metadata": {},
     "output_type": "execute_result"
    }
   ],
   "source": [
    "two_darr[:,:] # : refers to all rows as well as all columns"
   ]
  },
  {
   "cell_type": "code",
   "execution_count": 42,
   "id": "ffed21e5-b93f-41ce-8e47-4db49fefcb70",
   "metadata": {},
   "outputs": [
    {
     "data": {
      "text/plain": [
       "array([[ 1,  2,  3,  4,  5],\n",
       "       [ 6,  7,  8,  9, 10]])"
      ]
     },
     "execution_count": 42,
     "metadata": {},
     "output_type": "execute_result"
    }
   ],
   "source": [
    "two_darr[0:2] #first 2 rows"
   ]
  },
  {
   "cell_type": "code",
   "execution_count": 43,
   "id": "3a0922c4-54d5-4ee4-bd6d-ca2a6ccf20ae",
   "metadata": {},
   "outputs": [
    {
     "data": {
      "text/plain": [
       "array([[1, 2],\n",
       "       [6, 7]])"
      ]
     },
     "execution_count": 43,
     "metadata": {},
     "output_type": "execute_result"
    }
   ],
   "source": [
    "two_darr[0:2,0:2] #first 4 values"
   ]
  },
  {
   "cell_type": "code",
   "execution_count": 44,
   "id": "3de1cd4e-34b6-455e-a7d5-38a555e9d05f",
   "metadata": {},
   "outputs": [
    {
     "data": {
      "text/plain": [
       "array([[ 9, 10],\n",
       "       [13, 14]])"
      ]
     },
     "execution_count": 44,
     "metadata": {},
     "output_type": "execute_result"
    }
   ],
   "source": [
    "two_darr[1:,3:] #last 4 values "
   ]
  },
  {
   "cell_type": "code",
   "execution_count": 45,
   "id": "13a62875-e3d7-418e-8580-f8dc66da57a5",
   "metadata": {},
   "outputs": [
    {
     "data": {
      "text/plain": [
       "array([[ 7,  8],\n",
       "       [11, 12]])"
      ]
     },
     "execution_count": 45,
     "metadata": {},
     "output_type": "execute_result"
    }
   ],
   "source": [
    "two_darr[1:3,1:3]"
   ]
  },
  {
   "cell_type": "code",
   "execution_count": 48,
   "id": "722f7fbd-f0c8-4d96-979c-dccd9a63b378",
   "metadata": {},
   "outputs": [
    {
     "data": {
      "text/plain": [
       "array([[ 3,  4,  5],\n",
       "       [ 8,  9, 10]])"
      ]
     },
     "execution_count": 48,
     "metadata": {},
     "output_type": "execute_result"
    }
   ],
   "source": [
    "# 3 by 3 grid \n",
    "two_darr[0:2,2:]"
   ]
  },
  {
   "cell_type": "code",
   "execution_count": 49,
   "id": "06086528-8bae-43fc-9226-b821d0e1e623",
   "metadata": {},
   "outputs": [],
   "source": [
    "# inbuilt functions "
   ]
  },
  {
   "cell_type": "code",
   "execution_count": 28,
   "id": "e7375214-7501-4f1b-a2f6-16c9df5ec2dc",
   "metadata": {},
   "outputs": [],
   "source": [
    "arr=np.arange(0,10) # by default step is 1 , it can be any positive value k "
   ]
  },
  {
   "cell_type": "code",
   "execution_count": 61,
   "id": "766c57ee-cb9d-49fc-9ae2-995417eb6aca",
   "metadata": {},
   "outputs": [
    {
     "data": {
      "text/plain": [
       "array([0, 1, 2, 3, 4, 5, 6, 7, 8, 9])"
      ]
     },
     "execution_count": 61,
     "metadata": {},
     "output_type": "execute_result"
    }
   ],
   "source": [
    "arr"
   ]
  },
  {
   "cell_type": "code",
   "execution_count": 63,
   "id": "21bf496a-e79c-450d-97a5-bc115b9805ee",
   "metadata": {},
   "outputs": [],
   "source": [
    "arr=np.arange(0,10,2) # last parameter step tells how many values to skip "
   ]
  },
  {
   "cell_type": "code",
   "execution_count": 64,
   "id": "5cd44649-2437-4d8f-af76-c4428d1c013a",
   "metadata": {},
   "outputs": [
    {
     "data": {
      "text/plain": [
       "array([0, 2, 4, 6, 8])"
      ]
     },
     "execution_count": 64,
     "metadata": {},
     "output_type": "execute_result"
    }
   ],
   "source": [
    "arr"
   ]
  },
  {
   "cell_type": "code",
   "execution_count": 29,
   "id": "adb8d100-09bd-4d9b-abeb-87b49b03a154",
   "metadata": {},
   "outputs": [
    {
     "data": {
      "text/plain": [
       "array([1.        , 1.21052632, 1.42105263, 1.63157895, 1.84210526,\n",
       "       2.05263158, 2.26315789, 2.47368421, 2.68421053, 2.89473684,\n",
       "       3.10526316, 3.31578947, 3.52631579, 3.73684211, 3.94736842,\n",
       "       4.15789474, 4.36842105, 4.57894737, 4.78947368, 5.        ])"
      ]
     },
     "execution_count": 29,
     "metadata": {},
     "output_type": "execute_result"
    }
   ],
   "source": [
    "# linspace gives you k values in between the range a and b inclusive of a and b \n",
    "arr=np.linspace(1,5,20)\n",
    "arr"
   ]
  },
  {
   "cell_type": "code",
   "execution_count": 70,
   "id": "73468bdd-8333-4e65-8133-76c7e0cf1a24",
   "metadata": {},
   "outputs": [],
   "source": [
    "# copy functions and broadcasting \n",
    "arr=np.array([1,2,3,4,5,6,7,8,9,10])\n",
    "arr[3:]=100 #assign 100 to all values after index 3 "
   ]
  },
  {
   "cell_type": "code",
   "execution_count": 71,
   "id": "e9006393-1af4-44cf-a5fc-33fc35b9ea65",
   "metadata": {},
   "outputs": [
    {
     "data": {
      "text/plain": [
       "array([  1,   2,   3, 100, 100, 100, 100, 100, 100, 100])"
      ]
     },
     "execution_count": 71,
     "metadata": {},
     "output_type": "execute_result"
    }
   ],
   "source": [
    "arr"
   ]
  },
  {
   "cell_type": "code",
   "execution_count": 72,
   "id": "3ac759fa-c82a-4198-bd81-83b60a9cd459",
   "metadata": {},
   "outputs": [],
   "source": [
    "arr1=arr\n",
    "arr1[3:]=500"
   ]
  },
  {
   "cell_type": "code",
   "execution_count": 73,
   "id": "d592e55a-1348-4eda-bf81-c7ed849558a4",
   "metadata": {},
   "outputs": [
    {
     "data": {
      "text/plain": [
       "array([  1,   2,   3, 500, 500, 500, 500, 500, 500, 500])"
      ]
     },
     "execution_count": 73,
     "metadata": {},
     "output_type": "execute_result"
    }
   ],
   "source": [
    "arr1"
   ]
  },
  {
   "cell_type": "code",
   "execution_count": 76,
   "id": "8847a589-9472-4cb2-94dc-039659bcaeae",
   "metadata": {},
   "outputs": [
    {
     "data": {
      "text/plain": [
       "array([  1,   2,   3, 500, 500, 500, 500, 500, 500, 500])"
      ]
     },
     "execution_count": 76,
     "metadata": {},
     "output_type": "execute_result"
    }
   ],
   "source": [
    "arr #arr/list in python is a ref type, i.e if you assign an arr to another arr1, \n",
    "# changes made to arr1 also gets reflected back to arr , so be cautious about copying arr to some other variable"
   ]
  },
  {
   "cell_type": "code",
   "execution_count": 80,
   "id": "6402bcbb-e01f-4282-911f-249017c1acbe",
   "metadata": {},
   "outputs": [
    {
     "data": {
      "text/plain": [
       "array([  1,   2,   3, 600, 600, 600, 600, 600, 600, 600])"
      ]
     },
     "execution_count": 80,
     "metadata": {},
     "output_type": "execute_result"
    }
   ],
   "source": [
    "arr1=arr.copy()\n",
    "arr1[3:]=600\n",
    "arr1"
   ]
  },
  {
   "cell_type": "code",
   "execution_count": 82,
   "id": "d1e2959c-ccb0-45d0-8f16-e38e3bf74ed7",
   "metadata": {},
   "outputs": [
    {
     "data": {
      "text/plain": [
       "array([  1,   2,   3, 500, 500, 500, 500, 500, 500, 500])"
      ]
     },
     "execution_count": 82,
     "metadata": {},
     "output_type": "execute_result"
    }
   ],
   "source": [
    "arr #arr not changed now , arr1 has different memory location"
   ]
  },
  {
   "cell_type": "code",
   "execution_count": 85,
   "id": "af83996e-035b-412a-a13c-2b556ce8a99c",
   "metadata": {},
   "outputs": [
    {
     "data": {
      "text/plain": [
       "array([1, 2, 3])"
      ]
     },
     "execution_count": 85,
     "metadata": {},
     "output_type": "execute_result"
    }
   ],
   "source": [
    "# Some very useful conditions in EDA\n",
    "val=2\n",
    "arr[arr<5]"
   ]
  },
  {
   "cell_type": "code",
   "execution_count": 86,
   "id": "f93c29ea-8864-4eff-8b4c-4671a9986725",
   "metadata": {},
   "outputs": [
    {
     "data": {
      "text/plain": [
       "array([   2,    4,    6, 1000, 1000, 1000, 1000, 1000, 1000, 1000])"
      ]
     },
     "execution_count": 86,
     "metadata": {},
     "output_type": "execute_result"
    }
   ],
   "source": [
    "arr*2"
   ]
  },
  {
   "cell_type": "code",
   "execution_count": 87,
   "id": "bb0b95ae-0e6b-462e-aee3-f965f2e3543b",
   "metadata": {},
   "outputs": [
    {
     "data": {
      "text/plain": [
       "array([  0.5,   1. ,   1.5, 250. , 250. , 250. , 250. , 250. , 250. ,\n",
       "       250. ])"
      ]
     },
     "execution_count": 87,
     "metadata": {},
     "output_type": "execute_result"
    }
   ],
   "source": [
    "arr/2"
   ]
  },
  {
   "cell_type": "code",
   "execution_count": 88,
   "id": "761bb194-5849-4355-a154-37402a319c96",
   "metadata": {},
   "outputs": [
    {
     "data": {
      "text/plain": [
       "array([1, 0, 1, 0, 0, 0, 0, 0, 0, 0], dtype=int32)"
      ]
     },
     "execution_count": 88,
     "metadata": {},
     "output_type": "execute_result"
    }
   ],
   "source": [
    "arr%2"
   ]
  },
  {
   "cell_type": "code",
   "execution_count": 89,
   "id": "24eada8b-516c-4a67-b530-79f892b4b2f2",
   "metadata": {},
   "outputs": [
    {
     "data": {
      "text/plain": [
       "array([     1,      4,      9, 250000, 250000, 250000, 250000, 250000,\n",
       "       250000, 250000])"
      ]
     },
     "execution_count": 89,
     "metadata": {},
     "output_type": "execute_result"
    }
   ],
   "source": [
    "arr**2"
   ]
  },
  {
   "cell_type": "code",
   "execution_count": 90,
   "id": "25694c0f-bb53-4e21-8823-029648f8fe68",
   "metadata": {},
   "outputs": [
    {
     "data": {
      "text/plain": [
       "array([1, 2, 3])"
      ]
     },
     "execution_count": 90,
     "metadata": {},
     "output_type": "execute_result"
    }
   ],
   "source": [
    "arr[arr<300] #conditioning "
   ]
  },
  {
   "cell_type": "code",
   "execution_count": 95,
   "id": "cabcdaa2-c5ba-4be4-bfb7-5e93fc4399a0",
   "metadata": {},
   "outputs": [
    {
     "data": {
      "text/plain": [
       "array([[0, 1],\n",
       "       [2, 3],\n",
       "       [4, 5],\n",
       "       [6, 7],\n",
       "       [8, 9]])"
      ]
     },
     "execution_count": 95,
     "metadata": {},
     "output_type": "execute_result"
    }
   ],
   "source": [
    "# create arrays and reshape \n",
    "np.arange(0,10).reshape(5,2)"
   ]
  },
  {
   "cell_type": "code",
   "execution_count": 99,
   "id": "9971e04d-b35f-4c0e-b0b4-de586e9e04a7",
   "metadata": {},
   "outputs": [],
   "source": [
    "# multiplying 2 arrays of different dimentions \n",
    "arr1=np.arange(0,10).reshape(2,5)\n",
    "arr2=np.arange(0,10).reshape(2,5)"
   ]
  },
  {
   "cell_type": "code",
   "execution_count": 100,
   "id": "b11961fa-7cf0-4353-ab4d-33c689a5fd0d",
   "metadata": {},
   "outputs": [
    {
     "data": {
      "text/plain": [
       "array([[ 0,  1,  4,  9, 16],\n",
       "       [25, 36, 49, 64, 81]])"
      ]
     },
     "execution_count": 100,
     "metadata": {},
     "output_type": "execute_result"
    }
   ],
   "source": [
    "arr1*arr2"
   ]
  },
  {
   "cell_type": "code",
   "execution_count": 102,
   "id": "40426c99-df63-43b3-9faa-71c547c4b1cb",
   "metadata": {},
   "outputs": [
    {
     "data": {
      "text/plain": [
       "array([1, 1, 1, 1])"
      ]
     },
     "execution_count": 102,
     "metadata": {},
     "output_type": "execute_result"
    }
   ],
   "source": [
    "np.ones(4,dtype=int)"
   ]
  },
  {
   "cell_type": "code",
   "execution_count": 104,
   "id": "0575c330-d628-4320-a4ad-039df96ce99f",
   "metadata": {},
   "outputs": [
    {
     "data": {
      "text/plain": [
       "array([[1., 1., 1., 1., 1.],\n",
       "       [1., 1., 1., 1., 1.]])"
      ]
     },
     "execution_count": 104,
     "metadata": {},
     "output_type": "execute_result"
    }
   ],
   "source": [
    "np.ones((2,5),dtype=float)"
   ]
  },
  {
   "cell_type": "code",
   "execution_count": 107,
   "id": "93672414-6d95-4f55-8976-6e1ea0fafc8a",
   "metadata": {},
   "outputs": [
    {
     "data": {
      "text/plain": [
       "array([[0.83752554, 0.07139454, 0.45530404],\n",
       "       [0.0532663 , 0.96288721, 0.20139823],\n",
       "       [0.26123852, 0.68651036, 0.56340311]])"
      ]
     },
     "execution_count": 107,
     "metadata": {},
     "output_type": "execute_result"
    }
   ],
   "source": [
    "# random distribution \n",
    "np.random.rand(3,3) "
   ]
  },
  {
   "cell_type": "code",
   "execution_count": 30,
   "id": "990b8c8a-a2db-4c14-8503-73c637c6aa23",
   "metadata": {},
   "outputs": [
    {
     "data": {
      "text/plain": [
       "array([[-0.46067438, -0.75929202,  0.35569096,  0.38964008],\n",
       "       [ 1.35993519, -1.11019074, -1.00223817,  1.11992665],\n",
       "       [ 1.11703154,  0.0124908 , -0.2581054 ,  0.49665248],\n",
       "       [ 0.59076845,  0.7465191 , -1.21609412,  0.0797025 ]])"
      ]
     },
     "execution_count": 30,
     "metadata": {},
     "output_type": "execute_result"
    }
   ],
   "source": [
    "arr_ex=np.random.randn(4,4) #std normal distribution \n",
    "arr_ex # in range -1 to 1 "
   ]
  },
  {
   "cell_type": "code",
   "execution_count": 113,
   "id": "09889880-994e-41a6-a85b-a17d2ca8ccf5",
   "metadata": {},
   "outputs": [],
   "source": [
    "import seaborn as sns\n",
    "import pandas as pd"
   ]
  },
  {
   "cell_type": "code",
   "execution_count": 119,
   "id": "029d98ed-1395-4a67-9c8d-ff5f9a242cab",
   "metadata": {},
   "outputs": [
    {
     "data": {
      "text/plain": [
       "<Axes: ylabel='Count'>"
      ]
     },
     "execution_count": 119,
     "metadata": {},
     "output_type": "execute_result"
    },
    {
     "data": {
      "image/png": "[encoded data removed]",
      "text/plain": [
       "<Figure size 640x480 with 1 Axes>"
      ]
     },
     "metadata": {},
     "output_type": "display_data"
    }
   ],
   "source": [
    "sns.histplot(pd.DataFrame(arr_ex.reshape(16,1)),kde=True)"
   ]
  },
  {
   "cell_type": "code",
   "execution_count": 32,
   "id": "3e4ac785-17d5-4c02-91d1-a325cb748b87",
   "metadata": {},
   "outputs": [
    {
     "data": {
      "text/plain": [
       "array([[27,  7, 25, 58, 90],\n",
       "       [35, 62, 93, 61, 96]])"
      ]
     },
     "execution_count": 32,
     "metadata": {},
     "output_type": "execute_result"
    }
   ],
   "source": [
    "np.random.randint(0,100,10).reshape(2,5)\n",
    "# in range a to b , select exactly k numbers "
   ]
  },
  {
   "cell_type": "code",
   "execution_count": 127,
   "id": "a51f5647-43db-48f4-a3ff-f204fbc74d7e",
   "metadata": {},
   "outputs": [
    {
     "data": {
      "text/plain": [
       "array([[0.34309507, 0.38698497, 0.60573702, 0.75271888, 0.78310097]])"
      ]
     },
     "execution_count": 127,
     "metadata": {},
     "output_type": "execute_result"
    }
   ],
   "source": [
    "np.random.random_sample((1,5)) #return randomm intervals between 0 to 1"
   ]
  }
 ],
 "metadata": {
  "kernelspec": {
   "display_name": "Python 3 (ipykernel)",
   "language": "python",
   "name": "python3"
  },
  "language_info": {
   "codemirror_mode": {
    "name": "ipython",
    "version": 3
   },
   "file_extension": ".py",
   "mimetype": "text/x-python",
   "name": "python",
   "nbconvert_exporter": "python",
   "pygments_lexer": "ipython3",
   "version": "3.12.1"
  }
 },
 "nbformat": 4,
 "nbformat_minor": 5
}
